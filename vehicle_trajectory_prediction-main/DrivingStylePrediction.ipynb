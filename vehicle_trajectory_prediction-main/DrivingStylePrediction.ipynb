{
 "cells": [
  {
   "cell_type": "code",
   "execution_count": 21,
   "id": "c14d5170-32f6-4c27-9c20-019052be6ffb",
   "metadata": {},
   "outputs": [],
   "source": [
    "#import all the required libraries\n",
    "import pandas as pd\n",
    "import seaborn as sns\n",
    "import matplotlib.pyplot as plt\n",
    "from sklearn.decomposition import PCA\n",
    "from sklearn.cluster import KMeans\n"
   ]
  },
  {
   "cell_type": "code",
   "execution_count": 5,
   "id": "60af259e-5e05-4de3-8543-df1aed73d622",
   "metadata": {},
   "outputs": [],
   "source": [
    "#Downloaded and loaded smoothed us-101 highway dataset.\n",
    "#dataset can be found here : https://github.com/Rim-El-Ballouli/NGSIM-US-101-trajectory-dataset-smoothing/tree/master/smoothed-dataset/window-11 \n",
    "df = pd.read_csv(\"dataset/0750_0805_us101_smoothed_11_.csv\")"
   ]
  },
  {
   "cell_type": "code",
   "execution_count": 6,
   "id": "27cf79cb-533e-4efa-8ec3-a5e3e22a25d1",
   "metadata": {},
   "outputs": [
    {
     "data": {
      "text/html": [
       "<div>\n",
       "<style scoped>\n",
       "    .dataframe tbody tr th:only-of-type {\n",
       "        vertical-align: middle;\n",
       "    }\n",
       "\n",
       "    .dataframe tbody tr th {\n",
       "        vertical-align: top;\n",
       "    }\n",
       "\n",
       "    .dataframe thead th {\n",
       "        text-align: right;\n",
       "    }\n",
       "</style>\n",
       "<table border=\"1\" class=\"dataframe\">\n",
       "  <thead>\n",
       "    <tr style=\"text-align: right;\">\n",
       "      <th></th>\n",
       "      <th>Vehicle_ID</th>\n",
       "      <th>Frame_ID</th>\n",
       "      <th>Total_Frames</th>\n",
       "      <th>Global_Time</th>\n",
       "      <th>Local_X</th>\n",
       "      <th>Local_Y</th>\n",
       "      <th>Global_X</th>\n",
       "      <th>Global_Y</th>\n",
       "      <th>v_Length</th>\n",
       "      <th>v_Width</th>\n",
       "      <th>v_Class</th>\n",
       "      <th>v_Vel</th>\n",
       "      <th>v_Acc</th>\n",
       "      <th>Lane_ID</th>\n",
       "      <th>Preceeding</th>\n",
       "      <th>Following</th>\n",
       "      <th>Space_Hdwy</th>\n",
       "      <th>Time_Hdwy</th>\n",
       "    </tr>\n",
       "  </thead>\n",
       "  <tbody>\n",
       "    <tr>\n",
       "      <th>0</th>\n",
       "      <td>2</td>\n",
       "      <td>13</td>\n",
       "      <td>437</td>\n",
       "      <td>1118846980200</td>\n",
       "      <td>16.467196</td>\n",
       "      <td>35.380427</td>\n",
       "      <td>6451137.641</td>\n",
       "      <td>1873344.962</td>\n",
       "      <td>14.5</td>\n",
       "      <td>4.9</td>\n",
       "      <td>2</td>\n",
       "      <td>40.000000</td>\n",
       "      <td>0.000000</td>\n",
       "      <td>2</td>\n",
       "      <td>0</td>\n",
       "      <td>0</td>\n",
       "      <td>0.0</td>\n",
       "      <td>0.0</td>\n",
       "    </tr>\n",
       "    <tr>\n",
       "      <th>1</th>\n",
       "      <td>2</td>\n",
       "      <td>14</td>\n",
       "      <td>437</td>\n",
       "      <td>1118846980300</td>\n",
       "      <td>16.446594</td>\n",
       "      <td>39.381608</td>\n",
       "      <td>6451140.329</td>\n",
       "      <td>1873342.000</td>\n",
       "      <td>14.5</td>\n",
       "      <td>4.9</td>\n",
       "      <td>2</td>\n",
       "      <td>40.012349</td>\n",
       "      <td>0.123485</td>\n",
       "      <td>2</td>\n",
       "      <td>0</td>\n",
       "      <td>0</td>\n",
       "      <td>0.0</td>\n",
       "      <td>0.0</td>\n",
       "    </tr>\n",
       "    <tr>\n",
       "      <th>2</th>\n",
       "      <td>2</td>\n",
       "      <td>15</td>\n",
       "      <td>437</td>\n",
       "      <td>1118846980400</td>\n",
       "      <td>16.425991</td>\n",
       "      <td>43.381541</td>\n",
       "      <td>6451143.018</td>\n",
       "      <td>1873339.038</td>\n",
       "      <td>14.5</td>\n",
       "      <td>4.9</td>\n",
       "      <td>2</td>\n",
       "      <td>39.999855</td>\n",
       "      <td>-0.124939</td>\n",
       "      <td>2</td>\n",
       "      <td>0</td>\n",
       "      <td>0</td>\n",
       "      <td>0.0</td>\n",
       "      <td>0.0</td>\n",
       "    </tr>\n",
       "    <tr>\n",
       "      <th>3</th>\n",
       "      <td>2</td>\n",
       "      <td>16</td>\n",
       "      <td>437</td>\n",
       "      <td>1118846980500</td>\n",
       "      <td>16.405392</td>\n",
       "      <td>47.380780</td>\n",
       "      <td>6451145.706</td>\n",
       "      <td>1873336.077</td>\n",
       "      <td>14.5</td>\n",
       "      <td>4.9</td>\n",
       "      <td>2</td>\n",
       "      <td>39.992920</td>\n",
       "      <td>-0.069349</td>\n",
       "      <td>2</td>\n",
       "      <td>0</td>\n",
       "      <td>0</td>\n",
       "      <td>0.0</td>\n",
       "      <td>0.0</td>\n",
       "    </tr>\n",
       "    <tr>\n",
       "      <th>4</th>\n",
       "      <td>2</td>\n",
       "      <td>17</td>\n",
       "      <td>437</td>\n",
       "      <td>1118846980600</td>\n",
       "      <td>16.384804</td>\n",
       "      <td>51.379881</td>\n",
       "      <td>6451148.395</td>\n",
       "      <td>1873333.115</td>\n",
       "      <td>14.5</td>\n",
       "      <td>4.9</td>\n",
       "      <td>2</td>\n",
       "      <td>39.991544</td>\n",
       "      <td>-0.013759</td>\n",
       "      <td>2</td>\n",
       "      <td>0</td>\n",
       "      <td>0</td>\n",
       "      <td>0.0</td>\n",
       "      <td>0.0</td>\n",
       "    </tr>\n",
       "  </tbody>\n",
       "</table>\n",
       "</div>"
      ],
      "text/plain": [
       "   Vehicle_ID  Frame_ID  Total_Frames    Global_Time    Local_X    Local_Y  \\\n",
       "0           2        13           437  1118846980200  16.467196  35.380427   \n",
       "1           2        14           437  1118846980300  16.446594  39.381608   \n",
       "2           2        15           437  1118846980400  16.425991  43.381541   \n",
       "3           2        16           437  1118846980500  16.405392  47.380780   \n",
       "4           2        17           437  1118846980600  16.384804  51.379881   \n",
       "\n",
       "      Global_X     Global_Y  v_Length  v_Width  v_Class      v_Vel     v_Acc  \\\n",
       "0  6451137.641  1873344.962      14.5      4.9        2  40.000000  0.000000   \n",
       "1  6451140.329  1873342.000      14.5      4.9        2  40.012349  0.123485   \n",
       "2  6451143.018  1873339.038      14.5      4.9        2  39.999855 -0.124939   \n",
       "3  6451145.706  1873336.077      14.5      4.9        2  39.992920 -0.069349   \n",
       "4  6451148.395  1873333.115      14.5      4.9        2  39.991544 -0.013759   \n",
       "\n",
       "   Lane_ID  Preceeding  Following  Space_Hdwy  Time_Hdwy  \n",
       "0        2           0          0         0.0        0.0  \n",
       "1        2           0          0         0.0        0.0  \n",
       "2        2           0          0         0.0        0.0  \n",
       "3        2           0          0         0.0        0.0  \n",
       "4        2           0          0         0.0        0.0  "
      ]
     },
     "execution_count": 6,
     "metadata": {},
     "output_type": "execute_result"
    }
   ],
   "source": [
    "#printing head of the dataset.\n",
    "df.head()"
   ]
  },
  {
   "cell_type": "code",
   "execution_count": 8,
   "id": "b03b70cc-acbf-45ba-9dbd-aae803b52bfd",
   "metadata": {},
   "outputs": [],
   "source": [
    "#selecting only required columns form the above loaded dataset.\n",
    "df_new = df[[\"Vehicle_ID\",\"Global_Time\",\"Local_X\",\"Local_Y\",\"v_Vel\",\"v_Acc\",\"Space_Hdwy\", \"Time_Hdwy\"]]\n",
    "\n",
    "#df_new.to_csv(\"new_csv.csv\")"
   ]
  },
  {
   "cell_type": "code",
   "execution_count": 9,
   "id": "353461c1-9be0-443c-a40e-db909dd0f804",
   "metadata": {},
   "outputs": [
    {
     "name": "stdout",
     "output_type": "stream",
     "text": [
      "1993\n"
     ]
    }
   ],
   "source": [
    "#getting unique list of vehicle ids.\n",
    "v_ids = df_new[\"Vehicle_ID\"].unique().tolist()\n",
    "print(len(v_ids))"
   ]
  },
  {
   "cell_type": "code",
   "execution_count": 52,
   "id": "76b1d7d7-064a-465e-ab06-d100b21ab06a",
   "metadata": {},
   "outputs": [
    {
     "name": "stdout",
     "output_type": "stream",
     "text": [
      "1993\n",
      "1993\n",
      "1993\n",
      "1993\n"
     ]
    }
   ],
   "source": [
    "# this section will get values of each unique vehicle id and store the mean of each column in the lists.\n",
    "avg_vel = []\n",
    "avg_acc = []\n",
    "avg_shdwy = []\n",
    "avg_thdwy = []\n",
    "\n",
    "y_local_list = []\n",
    "for i in v_ids:\n",
    "    vid_df = df_new[df_new[\"Vehicle_ID\"] == i]\n",
    "    avg_df = vid_df[[\"v_Vel\",\"v_Acc\",\"Space_Hdwy\", \"Time_Hdwy\"]].mean(axis = 0) \n",
    "    avg_vel.append(avg_df.v_Vel)\n",
    "    avg_acc.append(avg_df.v_Acc)\n",
    "    avg_shdwy.append(avg_df.Space_Hdwy)\n",
    "    avg_thdwy.append(avg_df.Time_Hdwy)\n",
    "    \n",
    "print(len(avg_vel))\n",
    "print(len(avg_acc))\n",
    "print(len(avg_shdwy))\n",
    "print(len(avg_thdwy))\n",
    "    "
   ]
  },
  {
   "cell_type": "code",
   "execution_count": 53,
   "id": "68961e3d-687c-46ef-af11-898a7c95183e",
   "metadata": {},
   "outputs": [
    {
     "data": {
      "text/html": [
       "<div>\n",
       "<style scoped>\n",
       "    .dataframe tbody tr th:only-of-type {\n",
       "        vertical-align: middle;\n",
       "    }\n",
       "\n",
       "    .dataframe tbody tr th {\n",
       "        vertical-align: top;\n",
       "    }\n",
       "\n",
       "    .dataframe thead th {\n",
       "        text-align: right;\n",
       "    }\n",
       "</style>\n",
       "<table border=\"1\" class=\"dataframe\">\n",
       "  <thead>\n",
       "    <tr style=\"text-align: right;\">\n",
       "      <th></th>\n",
       "      <th>Vehicle Id</th>\n",
       "      <th>Avg Velocity</th>\n",
       "      <th>Avg Acceleration</th>\n",
       "      <th>Avg Space_head</th>\n",
       "      <th>Avg Time_head</th>\n",
       "    </tr>\n",
       "  </thead>\n",
       "  <tbody>\n",
       "    <tr>\n",
       "      <th>0</th>\n",
       "      <td>2</td>\n",
       "      <td>48.041722</td>\n",
       "      <td>0.686125</td>\n",
       "      <td>0.000000</td>\n",
       "      <td>0.000000</td>\n",
       "    </tr>\n",
       "    <tr>\n",
       "      <th>1</th>\n",
       "      <td>4</td>\n",
       "      <td>46.345358</td>\n",
       "      <td>0.409664</td>\n",
       "      <td>0.000000</td>\n",
       "      <td>0.000000</td>\n",
       "    </tr>\n",
       "    <tr>\n",
       "      <th>2</th>\n",
       "      <td>5</td>\n",
       "      <td>46.245079</td>\n",
       "      <td>0.541758</td>\n",
       "      <td>0.000000</td>\n",
       "      <td>0.000000</td>\n",
       "    </tr>\n",
       "    <tr>\n",
       "      <th>3</th>\n",
       "      <td>6</td>\n",
       "      <td>46.591721</td>\n",
       "      <td>0.204813</td>\n",
       "      <td>50.560700</td>\n",
       "      <td>1.082269</td>\n",
       "    </tr>\n",
       "    <tr>\n",
       "      <th>4</th>\n",
       "      <td>8</td>\n",
       "      <td>46.751656</td>\n",
       "      <td>0.341532</td>\n",
       "      <td>70.087545</td>\n",
       "      <td>1.519107</td>\n",
       "    </tr>\n",
       "  </tbody>\n",
       "</table>\n",
       "</div>"
      ],
      "text/plain": [
       "   Vehicle Id  Avg Velocity  Avg Acceleration  Avg Space_head  Avg Time_head\n",
       "0           2     48.041722          0.686125        0.000000       0.000000\n",
       "1           4     46.345358          0.409664        0.000000       0.000000\n",
       "2           5     46.245079          0.541758        0.000000       0.000000\n",
       "3           6     46.591721          0.204813       50.560700       1.082269\n",
       "4           8     46.751656          0.341532       70.087545       1.519107"
      ]
     },
     "execution_count": 53,
     "metadata": {},
     "output_type": "execute_result"
    }
   ],
   "source": [
    "#creating dataframe from the obtained lists of mean values of the selected features\n",
    "id_df = pd.DataFrame(list(zip(v_ids,avg_vel,avg_acc,avg_shdwy,avg_thdwy)),\n",
    "               columns =['Vehicle Id', 'Avg Velocity', 'Avg Acceleration', 'Avg Space_head','Avg Time_head'])\n",
    "id_df.head()"
   ]
  },
  {
   "cell_type": "code",
   "execution_count": 54,
   "id": "517d9ee6-ca22-4c5e-8b34-6574ba685c25",
   "metadata": {},
   "outputs": [
    {
     "name": "stdout",
     "output_type": "stream",
     "text": [
      "   Vehicle Id  Avg Velocity  Avg Acceleration  Avg Space_head  Avg Time_head  \\\n",
      "0           2     48.041722          0.686125        0.000000       0.000000   \n",
      "1           4     46.345358          0.409664        0.000000       0.000000   \n",
      "2           5     46.245079          0.541758        0.000000       0.000000   \n",
      "3           6     46.591721          0.204813       50.560700       1.082269   \n",
      "4           8     46.751656          0.341532       70.087545       1.519107   \n",
      "\n",
      "   Cluster  \n",
      "0        0  \n",
      "1        0  \n",
      "2        0  \n",
      "3        0  \n",
      "4        0  \n"
     ]
    }
   ],
   "source": [
    "# calling kmeans clustering algorithm\n",
    "kmeans = KMeans(n_clusters=3) # 3 clusters to train 3 classes Aggressive, Moderate and Normal\n",
    "\n",
    "\n",
    "#training on selected features\n",
    "y = kmeans.fit_predict(id_df[['Avg Velocity', 'Avg Acceleration', 'Avg Space_head', 'Avg Time_head']]) \n",
    "\n",
    "#assigining trained cluster class\n",
    "id_df['Cluster'] = y\n",
    "\n",
    "print(id_df.head())"
   ]
  },
  {
   "cell_type": "code",
   "execution_count": null,
   "id": "62b9b38d-d0d4-4ba5-bab1-b80a1c15c40c",
   "metadata": {},
   "outputs": [],
   "source": []
  },
  {
   "cell_type": "code",
   "execution_count": 55,
   "id": "244240e3-6e17-427c-a3d3-474c7864a799",
   "metadata": {},
   "outputs": [
    {
     "name": "stdout",
     "output_type": "stream",
     "text": [
      "           Id Count    Avg Vel   Avg_Acc  Avg_SpaceH    Ave_TimeH\n",
      "Aggrasive      1818  41.880956  0.427515   81.162913     8.065465\n",
      "Moderate        106  28.258050  0.123958   67.078214   534.086185\n",
      "Normal           69  27.038102  0.177454   64.364374  1132.907198\n"
     ]
    }
   ],
   "source": [
    "#section to get mean of all the classified features to understance the classification\n",
    "means_list = []\n",
    "for id in [0,1,2]:\n",
    "    new_id = id_df[id_df[\"Cluster\"] == id]\n",
    "    means = new_id.mean(axis = 0)\n",
    "    # print(means)\n",
    "    # print(len(new_id))\n",
    "    means_list.append([len(new_id), new_id[\"Avg Velocity\"].mean(),\n",
    "                       new_id[\"Avg Acceleration\"].mean(),\n",
    "                       new_id[\"Avg Space_head\"].mean(),\n",
    "                       new_id[\"Avg Time_head\"].mean()])\n",
    "\n",
    "means_df = pd.DataFrame(means_list,index = [\"Aggrasive\", \"Moderate\", \"Normal\"], columns= ['Id Count','Avg Vel','Avg_Acc','Avg_SpaceH','Ave_TimeH'])\n",
    "print(means_df.head())"
   ]
  },
  {
   "cell_type": "code",
   "execution_count": 59,
   "id": "eb75bab9-022f-4c8a-bf2f-488f7401ed12",
   "metadata": {},
   "outputs": [
    {
     "data": {
      "image/png": "[encoded data removed]",
      "text/plain": [
       "<Figure size 432x288 with 1 Axes>"
      ]
     },
     "metadata": {
      "needs_background": "light"
     },
     "output_type": "display_data"
    }
   ],
   "source": [
    "\n",
    "#pca training to reduce 4d to 2d ro present data in a 2d graph\n",
    "pca_num_components = 2\n",
    "\n",
    "reduced_data = PCA(n_components=pca_num_components).fit_transform(id_df)\n",
    "results = pd.DataFrame(reduced_data,columns=['pca1','pca2'])\n",
    "\n",
    "#plotting the 2d featured plot of driving style classes\n",
    "sns.scatterplot(x=\"pca1\", y=\"pca2\", hue=id_df['Cluster'], data=results)\n",
    "plt.title('K-means Clustering represnted in 2 dimensions using PCA')\n",
    "#plt.legend([\"Aggressive\", \"Moderate\", \"Normal\"])\n",
    "plt.show()"
   ]
  },
  {
   "cell_type": "raw",
   "id": "b39dbeb6-e090-4245-b79a-db345c874ba8",
   "metadata": {},
   "source": [
    "In above plot class label 0,1,2 represnts Aggrasive, Moderate and Normal driving style respectively.\n"
   ]
  }
 ],
 "metadata": {
  "kernelspec": {
   "display_name": "Python 3",
   "language": "python",
   "name": "python3"
  },
  "language_info": {
   "codemirror_mode": {
    "name": "ipython",
    "version": 3
   },
   "file_extension": ".py",
   "mimetype": "text/x-python",
   "name": "python",
   "nbconvert_exporter": "python",
   "pygments_lexer": "ipython3",
   "version": "3.9.12"
  }
 },
 "nbformat": 4,
 "nbformat_minor": 5
}
