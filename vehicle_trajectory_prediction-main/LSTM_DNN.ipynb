{
  "cells": [
    {
      "cell_type": "code",
      "execution_count": 4,
      "metadata": {
        "id": "1kpR-nD083CG"
      },
      "outputs": [],
      "source": [
        "#importing all the required libraries\n",
        "\n",
        "import pandas as pd\n",
        "from tensorflow.keras.callbacks import EarlyStopping,ModelCheckpoint\n",
        "\n",
        "import numpy as np\n",
        "from tensorflow.keras.models import Sequential\n",
        "from tensorflow.keras.layers import LSTM\n",
        "from tensorflow.keras.layers import Dense, Dropout\n",
        "import pandas as pd\n",
        "from matplotlib import pyplot as plt\n",
        "from sklearn.preprocessing import StandardScaler ,scale"
      ]
    },
    {
      "cell_type": "code",
      "execution_count": 5,
      "metadata": {
        "colab": {
          "base_uri": "https://localhost:8080/",
          "height": 206
        },
        "id": "mZPR9xMD9Jen",
        "outputId": "ffdf28db-f104-4fe9-e532-4f60ae277c76"
      },
      "outputs": [
        {
          "output_type": "execute_result",
          "data": {
            "text/plain": [
              "   Unnamed: 0  Vehicle_ID    Global_Time    Local_X    Local_Y      v_Vel  \\\n",
              "0           0           2  1118846980200  16.467196  35.380427  40.000000   \n",
              "1           1           2  1118846980300  16.446594  39.381608  40.012349   \n",
              "2           2           2  1118846980400  16.425991  43.381541  39.999855   \n",
              "3           3           2  1118846980500  16.405392  47.380780  39.992920   \n",
              "4           4           2  1118846980600  16.384804  51.379881  39.991544   \n",
              "\n",
              "      v_Acc  Space_Hdwy  Time_Hdwy  \n",
              "0  0.000000         0.0        0.0  \n",
              "1  0.123485         0.0        0.0  \n",
              "2 -0.124939         0.0        0.0  \n",
              "3 -0.069349         0.0        0.0  \n",
              "4 -0.013759         0.0        0.0  "
            ],
            "text/html": [
              "\n",
              "  <div id=\"df-89a290b2-5fc7-450c-addb-62f9646579d6\">\n",
              "    <div class=\"colab-df-container\">\n",
              "      <div>\n",
              "<style scoped>\n",
              "    .dataframe tbody tr th:only-of-type {\n",
              "        vertical-align: middle;\n",
              "    }\n",
              "\n",
              "    .dataframe tbody tr th {\n",
              "        vertical-align: top;\n",
              "    }\n",
              "\n",
              "    .dataframe thead th {\n",
              "        text-align: right;\n",
              "    }\n",
              "</style>\n",
              "<table border=\"1\" class=\"dataframe\">\n",
              "  <thead>\n",
              "    <tr style=\"text-align: right;\">\n",
              "      <th></th>\n",
              "      <th>Unnamed: 0</th>\n",
              "      <th>Vehicle_ID</th>\n",
              "      <th>Global_Time</th>\n",
              "      <th>Local_X</th>\n",
              "      <th>Local_Y</th>\n",
              "      <th>v_Vel</th>\n",
              "      <th>v_Acc</th>\n",
              "      <th>Space_Hdwy</th>\n",
              "      <th>Time_Hdwy</th>\n",
              "    </tr>\n",
              "  </thead>\n",
              "  <tbody>\n",
              "    <tr>\n",
              "      <th>0</th>\n",
              "      <td>0</td>\n",
              "      <td>2</td>\n",
              "      <td>1118846980200</td>\n",
              "      <td>16.467196</td>\n",
              "      <td>35.380427</td>\n",
              "      <td>40.000000</td>\n",
              "      <td>0.000000</td>\n",
              "      <td>0.0</td>\n",
              "      <td>0.0</td>\n",
              "    </tr>\n",
              "    <tr>\n",
              "      <th>1</th>\n",
              "      <td>1</td>\n",
              "      <td>2</td>\n",
              "      <td>1118846980300</td>\n",
              "      <td>16.446594</td>\n",
              "      <td>39.381608</td>\n",
              "      <td>40.012349</td>\n",
              "      <td>0.123485</td>\n",
              "      <td>0.0</td>\n",
              "      <td>0.0</td>\n",
              "    </tr>\n",
              "    <tr>\n",
              "      <th>2</th>\n",
              "      <td>2</td>\n",
              "      <td>2</td>\n",
              "      <td>1118846980400</td>\n",
              "      <td>16.425991</td>\n",
              "      <td>43.381541</td>\n",
              "      <td>39.999855</td>\n",
              "      <td>-0.124939</td>\n",
              "      <td>0.0</td>\n",
              "      <td>0.0</td>\n",
              "    </tr>\n",
              "    <tr>\n",
              "      <th>3</th>\n",
              "      <td>3</td>\n",
              "      <td>2</td>\n",
              "      <td>1118846980500</td>\n",
              "      <td>16.405392</td>\n",
              "      <td>47.380780</td>\n",
              "      <td>39.992920</td>\n",
              "      <td>-0.069349</td>\n",
              "      <td>0.0</td>\n",
              "      <td>0.0</td>\n",
              "    </tr>\n",
              "    <tr>\n",
              "      <th>4</th>\n",
              "      <td>4</td>\n",
              "      <td>2</td>\n",
              "      <td>1118846980600</td>\n",
              "      <td>16.384804</td>\n",
              "      <td>51.379881</td>\n",
              "      <td>39.991544</td>\n",
              "      <td>-0.013759</td>\n",
              "      <td>0.0</td>\n",
              "      <td>0.0</td>\n",
              "    </tr>\n",
              "  </tbody>\n",
              "</table>\n",
              "</div>\n",
              "      <button class=\"colab-df-convert\" onclick=\"convertToInteractive('df-89a290b2-5fc7-450c-addb-62f9646579d6')\"\n",
              "              title=\"Convert this dataframe to an interactive table.\"\n",
              "              style=\"display:none;\">\n",
              "        \n",
              "  <svg xmlns=\"http://www.w3.org/2000/svg\" height=\"24px\"viewBox=\"0 0 24 24\"\n",
              "       width=\"24px\">\n",
              "    <path d=\"M0 0h24v24H0V0z\" fill=\"none\"/>\n",
              "    <path d=\"M18.56 5.44l.94 2.06.94-2.06 2.06-.94-2.06-.94-.94-2.06-.94 2.06-2.06.94zm-11 1L8.5 8.5l.94-2.06 2.06-.94-2.06-.94L8.5 2.5l-.94 2.06-2.06.94zm10 10l.94 2.06.94-2.06 2.06-.94-2.06-.94-.94-2.06-.94 2.06-2.06.94z\"/><path d=\"M17.41 7.96l-1.37-1.37c-.4-.4-.92-.59-1.43-.59-.52 0-1.04.2-1.43.59L10.3 9.45l-7.72 7.72c-.78.78-.78 2.05 0 2.83L4 21.41c.39.39.9.59 1.41.59.51 0 1.02-.2 1.41-.59l7.78-7.78 2.81-2.81c.8-.78.8-2.07 0-2.86zM5.41 20L4 18.59l7.72-7.72 1.47 1.35L5.41 20z\"/>\n",
              "  </svg>\n",
              "      </button>\n",
              "      \n",
              "  <style>\n",
              "    .colab-df-container {\n",
              "      display:flex;\n",
              "      flex-wrap:wrap;\n",
              "      gap: 12px;\n",
              "    }\n",
              "\n",
              "    .colab-df-convert {\n",
              "      background-color: #E8F0FE;\n",
              "      border: none;\n",
              "      border-radius: 50%;\n",
              "      cursor: pointer;\n",
              "      display: none;\n",
              "      fill: #1967D2;\n",
              "      height: 32px;\n",
              "      padding: 0 0 0 0;\n",
              "      width: 32px;\n",
              "    }\n",
              "\n",
              "    .colab-df-convert:hover {\n",
              "      background-color: #E2EBFA;\n",
              "      box-shadow: 0px 1px 2px rgba(60, 64, 67, 0.3), 0px 1px 3px 1px rgba(60, 64, 67, 0.15);\n",
              "      fill: #174EA6;\n",
              "    }\n",
              "\n",
              "    [theme=dark] .colab-df-convert {\n",
              "      background-color: #3B4455;\n",
              "      fill: #D2E3FC;\n",
              "    }\n",
              "\n",
              "    [theme=dark] .colab-df-convert:hover {\n",
              "      background-color: #434B5C;\n",
              "      box-shadow: 0px 1px 3px 1px rgba(0, 0, 0, 0.15);\n",
              "      filter: drop-shadow(0px 1px 2px rgba(0, 0, 0, 0.3));\n",
              "      fill: #FFFFFF;\n",
              "    }\n",
              "  </style>\n",
              "\n",
              "      <script>\n",
              "        const buttonEl =\n",
              "          document.querySelector('#df-89a290b2-5fc7-450c-addb-62f9646579d6 button.colab-df-convert');\n",
              "        buttonEl.style.display =\n",
              "          google.colab.kernel.accessAllowed ? 'block' : 'none';\n",
              "\n",
              "        async function convertToInteractive(key) {\n",
              "          const element = document.querySelector('#df-89a290b2-5fc7-450c-addb-62f9646579d6');\n",
              "          const dataTable =\n",
              "            await google.colab.kernel.invokeFunction('convertToInteractive',\n",
              "                                                     [key], {});\n",
              "          if (!dataTable) return;\n",
              "\n",
              "          const docLinkHtml = 'Like what you see? Visit the ' +\n",
              "            '<a target=\"_blank\" href=https://colab.research.google.com/notebooks/data_table.ipynb>data table notebook</a>'\n",
              "            + ' to learn more about interactive tables.';\n",
              "          element.innerHTML = '';\n",
              "          dataTable['output_type'] = 'display_data';\n",
              "          await google.colab.output.renderOutput(dataTable, element);\n",
              "          const docLink = document.createElement('div');\n",
              "          docLink.innerHTML = docLinkHtml;\n",
              "          element.appendChild(docLink);\n",
              "        }\n",
              "      </script>\n",
              "    </div>\n",
              "  </div>\n",
              "  "
            ]
          },
          "metadata": {},
          "execution_count": 5
        }
      ],
      "source": [
        "#reading processed features file of NGSIM highway data\n",
        "df = pd.read_csv(\"new_csv.csv\")\n",
        "df.head()\n"
      ]
    },
    {
      "cell_type": "code",
      "execution_count": 6,
      "metadata": {
        "colab": {
          "base_uri": "https://localhost:8080/",
          "height": 238
        },
        "id": "Que0Q02F6t_r",
        "outputId": "7d49bc50-f09b-487e-fc62-233b6c797026"
      },
      "outputs": [
        {
          "output_type": "execute_result",
          "data": {
            "text/plain": [
              "               Unnamed: 0  Vehicle_ID    Local_X    Local_Y      v_Vel  \\\n",
              "Global_Time                                                              \n",
              "1118846980200           0           2  16.467196  35.380427  40.000000   \n",
              "1118846980300           1           2  16.446594  39.381608  40.012349   \n",
              "1118846980400           2           2  16.425991  43.381541  39.999855   \n",
              "1118846980500           3           2  16.405392  47.380780  39.992920   \n",
              "1118846980600           4           2  16.384804  51.379881  39.991544   \n",
              "\n",
              "                  v_Acc  Space_Hdwy  Time_Hdwy  \n",
              "Global_Time                                     \n",
              "1118846980200  0.000000         0.0        0.0  \n",
              "1118846980300  0.123485         0.0        0.0  \n",
              "1118846980400 -0.124939         0.0        0.0  \n",
              "1118846980500 -0.069349         0.0        0.0  \n",
              "1118846980600 -0.013759         0.0        0.0  "
            ],
            "text/html": [
              "\n",
              "  <div id=\"df-79ce67bd-cd84-4485-b118-e0c687c7d28c\">\n",
              "    <div class=\"colab-df-container\">\n",
              "      <div>\n",
              "<style scoped>\n",
              "    .dataframe tbody tr th:only-of-type {\n",
              "        vertical-align: middle;\n",
              "    }\n",
              "\n",
              "    .dataframe tbody tr th {\n",
              "        vertical-align: top;\n",
              "    }\n",
              "\n",
              "    .dataframe thead th {\n",
              "        text-align: right;\n",
              "    }\n",
              "</style>\n",
              "<table border=\"1\" class=\"dataframe\">\n",
              "  <thead>\n",
              "    <tr style=\"text-align: right;\">\n",
              "      <th></th>\n",
              "      <th>Unnamed: 0</th>\n",
              "      <th>Vehicle_ID</th>\n",
              "      <th>Local_X</th>\n",
              "      <th>Local_Y</th>\n",
              "      <th>v_Vel</th>\n",
              "      <th>v_Acc</th>\n",
              "      <th>Space_Hdwy</th>\n",
              "      <th>Time_Hdwy</th>\n",
              "    </tr>\n",
              "    <tr>\n",
              "      <th>Global_Time</th>\n",
              "      <th></th>\n",
              "      <th></th>\n",
              "      <th></th>\n",
              "      <th></th>\n",
              "      <th></th>\n",
              "      <th></th>\n",
              "      <th></th>\n",
              "      <th></th>\n",
              "    </tr>\n",
              "  </thead>\n",
              "  <tbody>\n",
              "    <tr>\n",
              "      <th>1118846980200</th>\n",
              "      <td>0</td>\n",
              "      <td>2</td>\n",
              "      <td>16.467196</td>\n",
              "      <td>35.380427</td>\n",
              "      <td>40.000000</td>\n",
              "      <td>0.000000</td>\n",
              "      <td>0.0</td>\n",
              "      <td>0.0</td>\n",
              "    </tr>\n",
              "    <tr>\n",
              "      <th>1118846980300</th>\n",
              "      <td>1</td>\n",
              "      <td>2</td>\n",
              "      <td>16.446594</td>\n",
              "      <td>39.381608</td>\n",
              "      <td>40.012349</td>\n",
              "      <td>0.123485</td>\n",
              "      <td>0.0</td>\n",
              "      <td>0.0</td>\n",
              "    </tr>\n",
              "    <tr>\n",
              "      <th>1118846980400</th>\n",
              "      <td>2</td>\n",
              "      <td>2</td>\n",
              "      <td>16.425991</td>\n",
              "      <td>43.381541</td>\n",
              "      <td>39.999855</td>\n",
              "      <td>-0.124939</td>\n",
              "      <td>0.0</td>\n",
              "      <td>0.0</td>\n",
              "    </tr>\n",
              "    <tr>\n",
              "      <th>1118846980500</th>\n",
              "      <td>3</td>\n",
              "      <td>2</td>\n",
              "      <td>16.405392</td>\n",
              "      <td>47.380780</td>\n",
              "      <td>39.992920</td>\n",
              "      <td>-0.069349</td>\n",
              "      <td>0.0</td>\n",
              "      <td>0.0</td>\n",
              "    </tr>\n",
              "    <tr>\n",
              "      <th>1118846980600</th>\n",
              "      <td>4</td>\n",
              "      <td>2</td>\n",
              "      <td>16.384804</td>\n",
              "      <td>51.379881</td>\n",
              "      <td>39.991544</td>\n",
              "      <td>-0.013759</td>\n",
              "      <td>0.0</td>\n",
              "      <td>0.0</td>\n",
              "    </tr>\n",
              "  </tbody>\n",
              "</table>\n",
              "</div>\n",
              "      <button class=\"colab-df-convert\" onclick=\"convertToInteractive('df-79ce67bd-cd84-4485-b118-e0c687c7d28c')\"\n",
              "              title=\"Convert this dataframe to an interactive table.\"\n",
              "              style=\"display:none;\">\n",
              "        \n",
              "  <svg xmlns=\"http://www.w3.org/2000/svg\" height=\"24px\"viewBox=\"0 0 24 24\"\n",
              "       width=\"24px\">\n",
              "    <path d=\"M0 0h24v24H0V0z\" fill=\"none\"/>\n",
              "    <path d=\"M18.56 5.44l.94 2.06.94-2.06 2.06-.94-2.06-.94-.94-2.06-.94 2.06-2.06.94zm-11 1L8.5 8.5l.94-2.06 2.06-.94-2.06-.94L8.5 2.5l-.94 2.06-2.06.94zm10 10l.94 2.06.94-2.06 2.06-.94-2.06-.94-.94-2.06-.94 2.06-2.06.94z\"/><path d=\"M17.41 7.96l-1.37-1.37c-.4-.4-.92-.59-1.43-.59-.52 0-1.04.2-1.43.59L10.3 9.45l-7.72 7.72c-.78.78-.78 2.05 0 2.83L4 21.41c.39.39.9.59 1.41.59.51 0 1.02-.2 1.41-.59l7.78-7.78 2.81-2.81c.8-.78.8-2.07 0-2.86zM5.41 20L4 18.59l7.72-7.72 1.47 1.35L5.41 20z\"/>\n",
              "  </svg>\n",
              "      </button>\n",
              "      \n",
              "  <style>\n",
              "    .colab-df-container {\n",
              "      display:flex;\n",
              "      flex-wrap:wrap;\n",
              "      gap: 12px;\n",
              "    }\n",
              "\n",
              "    .colab-df-convert {\n",
              "      background-color: #E8F0FE;\n",
              "      border: none;\n",
              "      border-radius: 50%;\n",
              "      cursor: pointer;\n",
              "      display: none;\n",
              "      fill: #1967D2;\n",
              "      height: 32px;\n",
              "      padding: 0 0 0 0;\n",
              "      width: 32px;\n",
              "    }\n",
              "\n",
              "    .colab-df-convert:hover {\n",
              "      background-color: #E2EBFA;\n",
              "      box-shadow: 0px 1px 2px rgba(60, 64, 67, 0.3), 0px 1px 3px 1px rgba(60, 64, 67, 0.15);\n",
              "      fill: #174EA6;\n",
              "    }\n",
              "\n",
              "    [theme=dark] .colab-df-convert {\n",
              "      background-color: #3B4455;\n",
              "      fill: #D2E3FC;\n",
              "    }\n",
              "\n",
              "    [theme=dark] .colab-df-convert:hover {\n",
              "      background-color: #434B5C;\n",
              "      box-shadow: 0px 1px 3px 1px rgba(0, 0, 0, 0.15);\n",
              "      filter: drop-shadow(0px 1px 2px rgba(0, 0, 0, 0.3));\n",
              "      fill: #FFFFFF;\n",
              "    }\n",
              "  </style>\n",
              "\n",
              "      <script>\n",
              "        const buttonEl =\n",
              "          document.querySelector('#df-79ce67bd-cd84-4485-b118-e0c687c7d28c button.colab-df-convert');\n",
              "        buttonEl.style.display =\n",
              "          google.colab.kernel.accessAllowed ? 'block' : 'none';\n",
              "\n",
              "        async function convertToInteractive(key) {\n",
              "          const element = document.querySelector('#df-79ce67bd-cd84-4485-b118-e0c687c7d28c');\n",
              "          const dataTable =\n",
              "            await google.colab.kernel.invokeFunction('convertToInteractive',\n",
              "                                                     [key], {});\n",
              "          if (!dataTable) return;\n",
              "\n",
              "          const docLinkHtml = 'Like what you see? Visit the ' +\n",
              "            '<a target=\"_blank\" href=https://colab.research.google.com/notebooks/data_table.ipynb>data table notebook</a>'\n",
              "            + ' to learn more about interactive tables.';\n",
              "          element.innerHTML = '';\n",
              "          dataTable['output_type'] = 'display_data';\n",
              "          await google.colab.output.renderOutput(dataTable, element);\n",
              "          const docLink = document.createElement('div');\n",
              "          docLink.innerHTML = docLinkHtml;\n",
              "          element.appendChild(docLink);\n",
              "        }\n",
              "      </script>\n",
              "    </div>\n",
              "  </div>\n",
              "  "
            ]
          },
          "metadata": {},
          "execution_count": 6
        }
      ],
      "source": [
        "#setting global time as the index of the dataframe\n",
        "df = df.set_index(\"Global_Time\")\n",
        "df.head()"
      ]
    },
    {
      "cell_type": "code",
      "execution_count": 7,
      "metadata": {
        "colab": {
          "base_uri": "https://localhost:8080/",
          "height": 238
        },
        "id": "k6OiajPLvLXi",
        "outputId": "913869d8-daac-4f14-909d-e39ca8ecc038"
      },
      "outputs": [
        {
          "output_type": "execute_result",
          "data": {
            "text/plain": [
              "               Local_X  Local_Y\n",
              "Global_Time                    \n",
              "1118846980200    16.47    35.38\n",
              "1118846980300    16.45    39.38\n",
              "1118846980400    16.43    43.38\n",
              "1118846980500    16.41    47.38\n",
              "1118846980600    16.38    51.38"
            ],
            "text/html": [
              "\n",
              "  <div id=\"df-b8240386-cd8c-4fcf-ae6d-804b5b651197\">\n",
              "    <div class=\"colab-df-container\">\n",
              "      <div>\n",
              "<style scoped>\n",
              "    .dataframe tbody tr th:only-of-type {\n",
              "        vertical-align: middle;\n",
              "    }\n",
              "\n",
              "    .dataframe tbody tr th {\n",
              "        vertical-align: top;\n",
              "    }\n",
              "\n",
              "    .dataframe thead th {\n",
              "        text-align: right;\n",
              "    }\n",
              "</style>\n",
              "<table border=\"1\" class=\"dataframe\">\n",
              "  <thead>\n",
              "    <tr style=\"text-align: right;\">\n",
              "      <th></th>\n",
              "      <th>Local_X</th>\n",
              "      <th>Local_Y</th>\n",
              "    </tr>\n",
              "    <tr>\n",
              "      <th>Global_Time</th>\n",
              "      <th></th>\n",
              "      <th></th>\n",
              "    </tr>\n",
              "  </thead>\n",
              "  <tbody>\n",
              "    <tr>\n",
              "      <th>1118846980200</th>\n",
              "      <td>16.47</td>\n",
              "      <td>35.38</td>\n",
              "    </tr>\n",
              "    <tr>\n",
              "      <th>1118846980300</th>\n",
              "      <td>16.45</td>\n",
              "      <td>39.38</td>\n",
              "    </tr>\n",
              "    <tr>\n",
              "      <th>1118846980400</th>\n",
              "      <td>16.43</td>\n",
              "      <td>43.38</td>\n",
              "    </tr>\n",
              "    <tr>\n",
              "      <th>1118846980500</th>\n",
              "      <td>16.41</td>\n",
              "      <td>47.38</td>\n",
              "    </tr>\n",
              "    <tr>\n",
              "      <th>1118846980600</th>\n",
              "      <td>16.38</td>\n",
              "      <td>51.38</td>\n",
              "    </tr>\n",
              "  </tbody>\n",
              "</table>\n",
              "</div>\n",
              "      <button class=\"colab-df-convert\" onclick=\"convertToInteractive('df-b8240386-cd8c-4fcf-ae6d-804b5b651197')\"\n",
              "              title=\"Convert this dataframe to an interactive table.\"\n",
              "              style=\"display:none;\">\n",
              "        \n",
              "  <svg xmlns=\"http://www.w3.org/2000/svg\" height=\"24px\"viewBox=\"0 0 24 24\"\n",
              "       width=\"24px\">\n",
              "    <path d=\"M0 0h24v24H0V0z\" fill=\"none\"/>\n",
              "    <path d=\"M18.56 5.44l.94 2.06.94-2.06 2.06-.94-2.06-.94-.94-2.06-.94 2.06-2.06.94zm-11 1L8.5 8.5l.94-2.06 2.06-.94-2.06-.94L8.5 2.5l-.94 2.06-2.06.94zm10 10l.94 2.06.94-2.06 2.06-.94-2.06-.94-.94-2.06-.94 2.06-2.06.94z\"/><path d=\"M17.41 7.96l-1.37-1.37c-.4-.4-.92-.59-1.43-.59-.52 0-1.04.2-1.43.59L10.3 9.45l-7.72 7.72c-.78.78-.78 2.05 0 2.83L4 21.41c.39.39.9.59 1.41.59.51 0 1.02-.2 1.41-.59l7.78-7.78 2.81-2.81c.8-.78.8-2.07 0-2.86zM5.41 20L4 18.59l7.72-7.72 1.47 1.35L5.41 20z\"/>\n",
              "  </svg>\n",
              "      </button>\n",
              "      \n",
              "  <style>\n",
              "    .colab-df-container {\n",
              "      display:flex;\n",
              "      flex-wrap:wrap;\n",
              "      gap: 12px;\n",
              "    }\n",
              "\n",
              "    .colab-df-convert {\n",
              "      background-color: #E8F0FE;\n",
              "      border: none;\n",
              "      border-radius: 50%;\n",
              "      cursor: pointer;\n",
              "      display: none;\n",
              "      fill: #1967D2;\n",
              "      height: 32px;\n",
              "      padding: 0 0 0 0;\n",
              "      width: 32px;\n",
              "    }\n",
              "\n",
              "    .colab-df-convert:hover {\n",
              "      background-color: #E2EBFA;\n",
              "      box-shadow: 0px 1px 2px rgba(60, 64, 67, 0.3), 0px 1px 3px 1px rgba(60, 64, 67, 0.15);\n",
              "      fill: #174EA6;\n",
              "    }\n",
              "\n",
              "    [theme=dark] .colab-df-convert {\n",
              "      background-color: #3B4455;\n",
              "      fill: #D2E3FC;\n",
              "    }\n",
              "\n",
              "    [theme=dark] .colab-df-convert:hover {\n",
              "      background-color: #434B5C;\n",
              "      box-shadow: 0px 1px 3px 1px rgba(0, 0, 0, 0.15);\n",
              "      filter: drop-shadow(0px 1px 2px rgba(0, 0, 0, 0.3));\n",
              "      fill: #FFFFFF;\n",
              "    }\n",
              "  </style>\n",
              "\n",
              "      <script>\n",
              "        const buttonEl =\n",
              "          document.querySelector('#df-b8240386-cd8c-4fcf-ae6d-804b5b651197 button.colab-df-convert');\n",
              "        buttonEl.style.display =\n",
              "          google.colab.kernel.accessAllowed ? 'block' : 'none';\n",
              "\n",
              "        async function convertToInteractive(key) {\n",
              "          const element = document.querySelector('#df-b8240386-cd8c-4fcf-ae6d-804b5b651197');\n",
              "          const dataTable =\n",
              "            await google.colab.kernel.invokeFunction('convertToInteractive',\n",
              "                                                     [key], {});\n",
              "          if (!dataTable) return;\n",
              "\n",
              "          const docLinkHtml = 'Like what you see? Visit the ' +\n",
              "            '<a target=\"_blank\" href=https://colab.research.google.com/notebooks/data_table.ipynb>data table notebook</a>'\n",
              "            + ' to learn more about interactive tables.';\n",
              "          element.innerHTML = '';\n",
              "          dataTable['output_type'] = 'display_data';\n",
              "          await google.colab.output.renderOutput(dataTable, element);\n",
              "          const docLink = document.createElement('div');\n",
              "          docLink.innerHTML = docLinkHtml;\n",
              "          element.appendChild(docLink);\n",
              "        }\n",
              "      </script>\n",
              "    </div>\n",
              "  </div>\n",
              "  "
            ]
          },
          "metadata": {},
          "execution_count": 7
        }
      ],
      "source": [
        "#Selecting necessary features of 100000 rows.\n",
        "train_df = df[[\"Local_X\", \"Local_Y\",\"v_Vel\",\"v_Acc\",\"Space_Hdwy\",\"Time_Hdwy\"]].astype(float).round(decimals =2)[0:100000]\n",
        "train_df.head()"
      ]
    },
    {
      "cell_type": "code",
      "execution_count": 8,
      "metadata": {
        "id": "UKp9E7hd9Jpm"
      },
      "outputs": [],
      "source": [
        "#scalling the data to better generalise the model and make all features contribute in the same way.\n",
        "scaler = StandardScaler()\n",
        "scaler = scaler.fit(train_df)\n",
        "train_df_scaled = scaler.transform(train_df)\n"
      ]
    },
    {
      "cell_type": "code",
      "execution_count": 9,
      "metadata": {
        "colab": {
          "base_uri": "https://localhost:8080/"
        },
        "id": "fe0DPAsP9Jvo",
        "outputId": "c267f132-4207-4f87-ebb9-39e9d86decd6"
      },
      "outputs": [
        {
          "output_type": "execute_result",
          "data": {
            "text/plain": [
              "array([[-0.80645401, -1.63185053],\n",
              "       [-0.80763124, -1.62505845],\n",
              "       [-0.80880846, -1.61826637],\n",
              "       [-0.80998569, -1.61147429],\n",
              "       [-0.81175153, -1.60468221]])"
            ]
          },
          "metadata": {},
          "execution_count": 9
        }
      ],
      "source": [
        "train_df_scaled[0:5]"
      ]
    },
    {
      "cell_type": "code",
      "execution_count": 10,
      "metadata": {
        "id": "QZxkbt3t-Q2r"
      },
      "outputs": [],
      "source": [
        "#preparing the training input data pair of (8 past input, current input as label).\n",
        "train_X, train_Y = [], []\n",
        "n_future = 1\n",
        "n_past = 8\n",
        "for i in range(n_past, len(train_df_scaled) - n_future +1):\n",
        "    train_X.append(train_df_scaled[i - n_past:i, 0:train_df.shape[1]])\n",
        "    train_Y.append(train_df_scaled[i + n_future - 1:i + n_future, 0:2])"
      ]
    },
    {
      "cell_type": "code",
      "execution_count": 11,
      "metadata": {
        "colab": {
          "base_uri": "https://localhost:8080/"
        },
        "id": "aSLJvbw6-c2L",
        "outputId": "501a2030-4bea-4a0b-84eb-0b74a1f06e5d"
      },
      "outputs": [
        {
          "output_type": "stream",
          "name": "stdout",
          "text": [
            "train_X shape == (99992, 8, 2).\n",
            "[[[-0.80645401 -1.63185053]\n",
            "  [-0.80763124 -1.62505845]\n",
            "  [-0.80880846 -1.61826637]\n",
            "  [-0.80998569 -1.61147429]\n",
            "  [-0.81175153 -1.60468221]\n",
            "  [-0.81292875 -1.59789013]\n",
            "  [-0.81410598 -1.59108107]\n",
            "  [-0.8152832  -1.58427201]]]\n",
            "train_Y shape == (99992, 1, 2).\n",
            "[[[-0.81646043 -1.57746295]]\n",
            "\n",
            " [[-0.81704904 -1.57067087]]\n",
            "\n",
            " [[-0.81881488 -1.56394671]]\n",
            "\n",
            " [[-0.82058071 -1.55729047]]\n",
            "\n",
            " [[-0.82175794 -1.55068517]]]\n"
          ]
        }
      ],
      "source": [
        "#printing the shape of input data size and output label size.\n",
        "train_X, train_Y = np.array(train_X), np.array(train_Y)\n",
        "print('train_X shape == {}.'.format(train_X.shape))\n",
        "print(train_X[0:1])\n",
        "print('train_Y shape == {}.'.format(train_Y.shape))\n",
        "print(train_Y[0:5])"
      ]
    },
    {
      "cell_type": "code",
      "execution_count": 12,
      "metadata": {
        "id": "fDMaooGWWGyH"
      },
      "outputs": [],
      "source": [
        "#function to calculate root mean squared error\n",
        "from keras import backend as K\n",
        "\n",
        "def root_mean_squared_error(y_true, y_pred):\n",
        "        return K.sqrt(K.mean(K.square(y_pred - y_true), axis=-1)) "
      ]
    },
    {
      "cell_type": "code",
      "execution_count": 13,
      "metadata": {
        "colab": {
          "base_uri": "https://localhost:8080/"
        },
        "id": "EMKDTfP7-ih9",
        "outputId": "55bd49ba-90d7-41d7-cc92-2013cbe9c4a0"
      },
      "outputs": [
        {
          "output_type": "stream",
          "name": "stdout",
          "text": [
            "Model: \"sequential\"\n",
            "_________________________________________________________________\n",
            " Layer (type)                Output Shape              Param #   \n",
            "=================================================================\n",
            " lstm (LSTM)                 (None, 64)                17152     \n",
            "                                                                 \n",
            " dropout (Dropout)           (None, 64)                0         \n",
            "                                                                 \n",
            " dense (Dense)               (None, 16)                1040      \n",
            "                                                                 \n",
            " dropout_1 (Dropout)         (None, 16)                0         \n",
            "                                                                 \n",
            " dense_1 (Dense)             (None, 2)                 34        \n",
            "                                                                 \n",
            "=================================================================\n",
            "Total params: 18,226\n",
            "Trainable params: 18,226\n",
            "Non-trainable params: 0\n",
            "_________________________________________________________________\n"
          ]
        }
      ],
      "source": [
        "#define LSTM-DNN architecure\n",
        "\n",
        "model = Sequential()\n",
        "model.add(LSTM(64, activation='relu', input_shape=(train_X.shape[1], train_X.shape[2]), return_sequences=False))\n",
        "#model.add(LSTM(64, activation='relu', return_sequences=False))\n",
        "#model.add(Dense(256, activation = \"relu\"))\n",
        "model.add(Dropout(0.5))\n",
        "model.add(Dense(16, activation = \"relu\"))\n",
        "model.add(Dropout(0.2))\n",
        "model.add(Dense(train_Y.shape[2]))\n",
        "model.compile(optimizer='adam', loss=\"mean_squared_error\")\n",
        "#model.compile(optimizer='rmsprop', loss=root_mean_squared_error,metrics = [\"accuracy\"])\n",
        "model.summary()\n"
      ]
    },
    {
      "cell_type": "code",
      "execution_count": null,
      "metadata": {
        "colab": {
          "base_uri": "https://localhost:8080/"
        },
        "id": "ZpVvNwwn-ilc",
        "outputId": "4447f292-b4ba-41f2-a570-973b6bac9acf"
      },
      "outputs": [
        {
          "output_type": "stream",
          "name": "stdout",
          "text": [
            "Epoch 1/8\n",
            "89988/89992 [============================>.] - ETA: 0s - loss: 0.1233\n",
            "Epoch 1: val_loss improved from inf to 0.04416, saving model to trajectory_model.h5\n",
            "89992/89992 [==============================] - 411s 5ms/step - loss: 0.1233 - val_loss: 0.0442\n",
            "Epoch 2/8\n",
            "89991/89992 [============================>.] - ETA: 0s - loss: 0.1042\n",
            "Epoch 2: val_loss improved from 0.04416 to 0.02346, saving model to trajectory_model.h5\n",
            "89992/89992 [==============================] - 386s 4ms/step - loss: 0.1042 - val_loss: 0.0235\n",
            "Epoch 3/8\n",
            "89989/89992 [============================>.] - ETA: 0s - loss: 0.0983\n",
            "Epoch 3: val_loss did not improve from 0.02346\n",
            "89992/89992 [==============================] - 385s 4ms/step - loss: 0.0983 - val_loss: 0.0270\n",
            "Epoch 4/8\n",
            "89991/89992 [============================>.] - ETA: 0s - loss: 0.0941\n",
            "Epoch 4: val_loss did not improve from 0.02346\n",
            "89992/89992 [==============================] - 391s 4ms/step - loss: 0.0941 - val_loss: 0.0268\n",
            "Epoch 5/8\n",
            "89985/89992 [============================>.] - ETA: 0s - loss: 0.0923\n",
            "Epoch 5: val_loss did not improve from 0.02346\n",
            "89992/89992 [==============================] - 403s 4ms/step - loss: 0.0923 - val_loss: 0.0253\n",
            "Epoch 6/8\n",
            "89990/89992 [============================>.] - ETA: 0s - loss: 0.0908\n",
            "Epoch 6: val_loss improved from 0.02346 to 0.02071, saving model to trajectory_model.h5\n",
            "89992/89992 [==============================] - 408s 5ms/step - loss: 0.0908 - val_loss: 0.0207\n",
            "Epoch 7/8\n",
            "89983/89992 [============================>.] - ETA: 0s - loss: 0.0895\n",
            "Epoch 7: val_loss did not improve from 0.02071\n",
            "89992/89992 [==============================] - 416s 5ms/step - loss: 0.0895 - val_loss: 0.0255\n",
            "Epoch 8/8\n",
            "87485/89992 [============================>.] - ETA: 11s - loss: 0.0878"
          ]
        }
      ],
      "source": [
        "# Defining checkpoints to store best model acoording to the minimum validation loss\n",
        "checkpoint = ModelCheckpoint(\n",
        "    'trajectory_model.h5',\n",
        "    monitor='val_loss',\n",
        "    save_best_only=True,\n",
        "    verbose=1)\n",
        "history = model.fit(train_X, train_Y, epochs=8, batch_size=1, validation_split=0.1, verbose=1,callbacks=[checkpoint])\n"
      ]
    },
    {
      "cell_type": "code",
      "execution_count": 15,
      "metadata": {
        "colab": {
          "base_uri": "https://localhost:8080/",
          "height": 295
        },
        "id": "z21WCgYbqGeV",
        "outputId": "08d6ff8d-e245-4415-9fbe-bc0387b1e3af"
      },
      "outputs": [
        {
          "output_type": "display_data",
          "data": {
            "text/plain": [
              "<Figure size 432x288 with 1 Axes>"
            ],
            "image/png": "[encoded data removed]"
          },
          "metadata": {
            "needs_background": "light"
          }
        }
      ],
      "source": [
        "#plotting the MSE loss for training and validation data.\n",
        "plt.plot(history.history['loss'])\n",
        "plt.plot(history.history['val_loss'])\n",
        "plt.title('model MSE Loss')\n",
        "plt.ylabel('Loss')\n",
        "plt.xlabel('epoch')\n",
        "plt.legend(['train', 'val'], loc='upper left')\n",
        "plt.show()"
      ]
    },
    {
      "cell_type": "markdown",
      "source": [
        "Above graph show that the best validation MSE loss we got is 0.0207 at epoch 6 and best training loss is 0.0878 for epoch 8."
      ],
      "metadata": {
        "id": "IgG-p0bvEkJU"
      }
    },
    {
      "cell_type": "code",
      "execution_count": 16,
      "metadata": {
        "colab": {
          "base_uri": "https://localhost:8080/"
        },
        "id": "BUImHKxB-ioc",
        "outputId": "4b3b2af7-15c5-4dfa-ee8d-aca236d3a6be"
      },
      "outputs": [
        {
          "output_type": "execute_result",
          "data": {
            "text/plain": [
              "array([[ 0.03115442, -0.38111052],\n",
              "       [ 0.02832498, -0.3741757 ],\n",
              "       [ 0.02548135, -0.36710843],\n",
              "       [ 0.02252753, -0.35990342],\n",
              "       [ 0.01955203, -0.3525443 ]], dtype=float32)"
            ]
          },
          "metadata": {},
          "execution_count": 16
        }
      ],
      "source": [
        "#prediction for last 100 input\n",
        "prediction = model.predict(train_X[-100:])\n",
        "prediction[0:5]"
      ]
    },
    {
      "cell_type": "code",
      "execution_count": 17,
      "metadata": {
        "colab": {
          "base_uri": "https://localhost:8080/"
        },
        "id": "HHstFQ2r-iq7",
        "outputId": "a9cd552d-4922-4997-fdef-ac1a4ecde1ef"
      },
      "outputs": [
        {
          "output_type": "stream",
          "name": "stdout",
          "text": [
            "[0.03115442 0.02832498 0.02548135 0.02252753 0.01955203]\n",
            "[-0.38111052 -0.3741757  -0.36710843 -0.35990342 -0.3525443 ]\n",
            "[0.03879373 0.0376165  0.03585066 0.03467344 0.0329076 ]\n",
            "[-0.38771134 -0.38093624 -0.37414416 -0.36735208 -0.36052604]\n"
          ]
        }
      ],
      "source": [
        "\n",
        "X_pred = prediction[:,0]\n",
        "Y_pred = prediction[:,1]\n",
        "Y = train_Y[-100: , 0]\n",
        "x = Y[:,0]\n",
        "y = Y[:,1]\n",
        "\n",
        "#print(Y[:,0])\n",
        "print(X_pred[0:5])\n",
        "print(Y_pred[0:5])\n",
        "print(x[0:5])\n",
        "print(y[0:5])"
      ]
    },
    {
      "cell_type": "code",
      "execution_count": 25,
      "metadata": {
        "colab": {
          "base_uri": "https://localhost:8080/",
          "height": 296
        },
        "id": "adrtbE9eE_z5",
        "outputId": "0679e3f5-afce-43b3-a043-f245831dd627"
      },
      "outputs": [
        {
          "output_type": "display_data",
          "data": {
            "text/plain": [
              "<Figure size 432x288 with 1 Axes>"
            ],
            "image/png": "[encoded data removed]"
          },
          "metadata": {
            "needs_background": "light"
          }
        }
      ],
      "source": [
        "#plotting the actual and predictied x_local and y_local values\n",
        "plt.plot(x ,y)\n",
        "plt.plot(X_pred,Y_pred)\n",
        "plt.legend([\"actual\",\"prediction\"])\n",
        "#plt.plot(X = y_pred[:,0], Y = y_pred[:,1])\n",
        "plt.title(\"Actual vs predicted trajectory of the Vehicle\")\n",
        "plt.xlabel(\"X_local\")\n",
        "plt.ylabel(\"Y_local\")\n",
        "plt.show()"
      ]
    },
    {
      "cell_type": "markdown",
      "source": [
        "Above graph shows the performace of our LSTM-DNN model, It can be seen that it is able to predict the shape of vehicle trajectory in a short span of 100 frames to."
      ],
      "metadata": {
        "id": "msZ1NttDEFGQ"
      }
    },
    {
      "cell_type": "code",
      "source": [
        ""
      ],
      "metadata": {
        "id": "L1iY2I6rEdgN"
      },
      "execution_count": null,
      "outputs": []
    }
  ],
  "metadata": {
    "colab": {
      "collapsed_sections": [],
      "name": "LSTM-DNN.ipynb",
      "provenance": []
    },
    "gpuClass": "standard",
    "kernelspec": {
      "display_name": "Python 3",
      "name": "python3"
    },
    "language_info": {
      "name": "python"
    }
  },
  "nbformat": 4,
  "nbformat_minor": 0
}